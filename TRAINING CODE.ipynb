{
 "cells": [
  {
   "cell_type": "code",
   "execution_count": 2,
   "id": "834179c6",
   "metadata": {},
   "outputs": [],
   "source": [
    "from keras.layers import Input, Flatten, Dense\n",
    "from keras.models import Model\n",
    "from keras.applications.vgg16 import VGG16, preprocess_input\n",
    "from keras.preprocessing.image import ImageDataGenerator\n",
    "from glob import glob\n",
    "import os "
   ]
  },
  {
   "cell_type": "code",
   "execution_count": 3,
   "id": "8aa04100",
   "metadata": {},
   "outputs": [],
   "source": [
    "# Specify the image size and batch size\n",
    "IMAGE_SIZE = (224, 224)\n",
    "batch_size = 32\n",
    "\n",
    "train_path = r'D:\\kannadhasan trios\\newone\\final-Autism\\data1\\train'\n",
    "test_path = r'D:\\kannadhasan trios\\newone\\final-Autism\\data1\\test'\n"
   ]
  },
  {
   "cell_type": "code",
   "execution_count": 4,
   "id": "fa1577c4",
   "metadata": {},
   "outputs": [],
   "source": [
    "# Load pre-trained VGG16 model\n",
    "base_model = VGG16(input_shape=(IMAGE_SIZE[0], IMAGE_SIZE[1], 3), weights='imagenet', include_top=False)"
   ]
  },
  {
   "cell_type": "code",
   "execution_count": 5,
   "id": "79a807f2",
   "metadata": {},
   "outputs": [],
   "source": [
    "# Freeze layers in the base model\n",
    "for layer in base_model.layers:\n",
    "    layer.trainable = False\n",
    "\n",
    "# Create custom head for your classification task\n",
    "x = Flatten()(base_model.output)\n",
    "x = Dense(1024, activation='relu')(x)\n",
    "prediction = Dense(len(glob(train_path + '/*')), activation='softmax')(x)\n"
   ]
  },
  {
   "cell_type": "code",
   "execution_count": 6,
   "id": "6b096295",
   "metadata": {},
   "outputs": [],
   "source": [
    "# Combine base model and custom head into a new model\n",
    "model = Model(inputs=base_model.input, outputs=prediction)\n",
    "\n",
    "model.compile(loss='categorical_crossentropy', optimizer='adam', metrics=['accuracy'])\n"
   ]
  },
  {
   "cell_type": "code",
   "execution_count": 7,
   "id": "4401858d",
   "metadata": {
    "scrolled": true
   },
   "outputs": [
    {
     "name": "stdout",
     "output_type": "stream",
     "text": [
      "Found 612 images belonging to 3 classes.\n",
      "Found 612 images belonging to 3 classes.\n"
     ]
    },
    {
     "name": "stderr",
     "output_type": "stream",
     "text": [
      "C:\\Users\\Admin\\AppData\\Local\\Temp\\ipykernel_2400\\2159821025.py:35: UserWarning: `Model.fit_generator` is deprecated and will be removed in a future version. Please use `Model.fit`, which supports generators.\n",
      "  r = model.fit_generator(\n"
     ]
    },
    {
     "name": "stdout",
     "output_type": "stream",
     "text": [
      "Epoch 1/20\n",
      "20/20 [==============================] - 528s 27s/step - loss: 7.4915 - accuracy: 0.4526 - val_loss: 1.2146 - val_accuracy: 0.6176\n",
      "Epoch 2/20\n",
      "20/20 [==============================] - 488s 25s/step - loss: 1.2705 - accuracy: 0.6748 - val_loss: 0.5648 - val_accuracy: 0.8105\n",
      "Epoch 3/20\n",
      "20/20 [==============================] - 488s 25s/step - loss: 0.7003 - accuracy: 0.7614 - val_loss: 0.3836 - val_accuracy: 0.8513\n",
      "Epoch 4/20\n",
      "20/20 [==============================] - 480s 25s/step - loss: 0.6130 - accuracy: 0.7712 - val_loss: 0.2932 - val_accuracy: 0.8922\n",
      "Epoch 5/20\n",
      "20/20 [==============================] - 516s 26s/step - loss: 0.4027 - accuracy: 0.8562 - val_loss: 0.2983 - val_accuracy: 0.8889\n",
      "Epoch 6/20\n",
      "20/20 [==============================] - 513s 26s/step - loss: 0.3481 - accuracy: 0.8758 - val_loss: 0.2655 - val_accuracy: 0.8987\n",
      "Epoch 7/20\n",
      "20/20 [==============================] - 519s 27s/step - loss: 0.3091 - accuracy: 0.8824 - val_loss: 0.2386 - val_accuracy: 0.9167\n",
      "Epoch 8/20\n",
      "20/20 [==============================] - 519s 27s/step - loss: 0.2890 - accuracy: 0.8971 - val_loss: 0.1346 - val_accuracy: 0.9624\n",
      "Epoch 9/20\n",
      "20/20 [==============================] - 530s 27s/step - loss: 0.3304 - accuracy: 0.8742 - val_loss: 0.3293 - val_accuracy: 0.8627\n",
      "Epoch 10/20\n",
      "20/20 [==============================] - 538s 28s/step - loss: 0.5212 - accuracy: 0.8056 - val_loss: 0.6233 - val_accuracy: 0.7859\n",
      "Epoch 11/20\n",
      "20/20 [==============================] - 566s 29s/step - loss: 0.2811 - accuracy: 0.9069 - val_loss: 0.2363 - val_accuracy: 0.9069\n",
      "Epoch 12/20\n",
      "20/20 [==============================] - 669s 34s/step - loss: 0.5073 - accuracy: 0.8203 - val_loss: 0.3881 - val_accuracy: 0.8399\n",
      "Epoch 13/20\n",
      "20/20 [==============================] - 562s 29s/step - loss: 0.2312 - accuracy: 0.9134 - val_loss: 0.1041 - val_accuracy: 0.9575\n",
      "Epoch 14/20\n",
      "20/20 [==============================] - 517s 26s/step - loss: 0.2462 - accuracy: 0.9020 - val_loss: 0.1085 - val_accuracy: 0.9608\n",
      "Epoch 15/20\n",
      "20/20 [==============================] - 532s 27s/step - loss: 0.1634 - accuracy: 0.9477 - val_loss: 0.2255 - val_accuracy: 0.8987\n",
      "Epoch 16/20\n",
      "20/20 [==============================] - 521s 27s/step - loss: 0.1668 - accuracy: 0.9444 - val_loss: 0.1548 - val_accuracy: 0.9346\n",
      "Epoch 17/20\n",
      "20/20 [==============================] - 509s 26s/step - loss: 0.1471 - accuracy: 0.9461 - val_loss: 0.0806 - val_accuracy: 0.9657\n",
      "Epoch 18/20\n",
      "20/20 [==============================] - 546s 28s/step - loss: 0.1204 - accuracy: 0.9526 - val_loss: 0.0454 - val_accuracy: 0.9902\n",
      "Epoch 19/20\n",
      "20/20 [==============================] - 1109s 58s/step - loss: 0.0954 - accuracy: 0.9657 - val_loss: 0.0944 - val_accuracy: 0.9739\n",
      "Epoch 20/20\n",
      "20/20 [==============================] - 2718s 140s/step - loss: 0.1195 - accuracy: 0.9510 - val_loss: 0.0311 - val_accuracy: 0.9951\n"
     ]
    }
   ],
   "source": [
    "# Data augmentation and preprocessing\n",
    "num_classes = 3  # Set the number of classes to 3\n",
    "\n",
    "train_datagen = ImageDataGenerator(\n",
    "    rescale=1./255,\n",
    "    shear_range=0.2,\n",
    "    zoom_range=0.2,\n",
    "    horizontal_flip=True\n",
    ")\n",
    "\n",
    "test_datagen = ImageDataGenerator(rescale=1./255)\n",
    "\n",
    "# Update class_mode to 'categorical' for three classes\n",
    "training_set = train_datagen.flow_from_directory(\n",
    "    train_path,\n",
    "    target_size=IMAGE_SIZE,\n",
    "    batch_size=batch_size,\n",
    "    class_mode='categorical',  # For three classes\n",
    "    classes=['happy', 'sad', 'angry']  # Specify your class names\n",
    ")\n",
    "\n",
    "test_set = test_datagen.flow_from_directory(\n",
    "    test_path,\n",
    "    target_size=IMAGE_SIZE,\n",
    "    batch_size=batch_size,\n",
    "    class_mode='categorical',  # For three classes\n",
    "    classes=['happy', 'sad', 'angry']  # Specify your class names\n",
    ")\n",
    "\n",
    "# Train the model\n",
    "epochs = 20  # Increase the number of epochs to 20\n",
    "steps_per_epoch = len(training_set)\n",
    "validation_steps = len(test_set)\n",
    "\n",
    "r = model.fit_generator(\n",
    "    training_set,\n",
    "    validation_data=test_set,\n",
    "    epochs=epochs,\n",
    "    steps_per_epoch=steps_per_epoch,\n",
    "    validation_steps=validation_steps\n",
    ")\n"
   ]
  },
  {
   "cell_type": "code",
   "execution_count": 8,
   "id": "0cdb1903",
   "metadata": {},
   "outputs": [
    {
     "name": "stderr",
     "output_type": "stream",
     "text": [
      "c:\\Users\\Admin\\AppData\\Local\\Programs\\Python\\Python310\\lib\\site-packages\\keras\\src\\engine\\training.py:3079: UserWarning: You are saving your model as an HDF5 file via `model.save()`. This file format is considered legacy. We recommend using instead the native Keras format, e.g. `model.save('my_model.keras')`.\n",
      "  saving_api.save_model(\n"
     ]
    },
    {
     "name": "stdout",
     "output_type": "stream",
     "text": [
      "Model saved as \"model2.h5\" in the specified directory.\n"
     ]
    }
   ],
   "source": [
    "# Define the full path to the directory where you want to save the model\n",
    "save_path = r'D:\\kannadhasan trios\\newone\\final-Autism'\n",
    "\n",
    "# Create the directory if it doesn't exist\n",
    "os.makedirs(save_path, exist_ok=True)\n",
    "\n",
    "# Save the model to the specified directory\n",
    "model.save(os.path.join(save_path, 'model2.h5'))\n",
    "print('Model saved as \"model2.h5\" in the specified directory.')\n",
    "\n"
   ]
  },
  {
   "cell_type": "code",
   "execution_count": null,
   "id": "1e119ec5",
   "metadata": {},
   "outputs": [],
   "source": []
  }
 ],
 "metadata": {
  "kernelspec": {
   "display_name": "Python 3 (ipykernel)",
   "language": "python",
   "name": "python3"
  },
  "language_info": {
   "codemirror_mode": {
    "name": "ipython",
    "version": 3
   },
   "file_extension": ".py",
   "mimetype": "text/x-python",
   "name": "python",
   "nbconvert_exporter": "python",
   "pygments_lexer": "ipython3",
   "version": "3.10.8"
  }
 },
 "nbformat": 4,
 "nbformat_minor": 5
}
